{
 "cells": [
  {
   "cell_type": "code",
   "execution_count": 23,
   "metadata": {
    "colab": {},
    "colab_type": "code",
    "id": "3H3-wNwA9NNj"
   },
   "outputs": [],
   "source": [
    "import requests\n",
    "import json\n",
    "from bs4 import BeautifulSoup\n",
    "from datetime import datetime\n",
    "import lxml"
   ]
  },
  {
   "cell_type": "markdown",
   "metadata": {
    "colab_type": "text",
    "id": "Q5cJRXpBZkWl"
   },
   "source": [
    "# > Request module and Json Parsing "
   ]
  },
  {
   "cell_type": "code",
   "execution_count": 24,
   "metadata": {
    "colab": {},
    "colab_type": "code",
    "id": "ATIPF7_BFK1K"
   },
   "outputs": [
    {
     "data": {
      "text/plain": [
       "\"\\n------------------------------------------------------------------------------------------------\\nHere is a weather API. Using this, you can get weather update for any city. \\nGo to https://openweathermap.org and get your API key for free and use it here to get weather of Chandigarh. \\nTask. \\nUse Requests and Json package to parse the response from the API and automatically generate weather report for Chandigarh.\\n\\nExpected output.\\n-------------------------------------------------------------------------------------------------\\nToday's weather report. \\nWeather today in Chandigarh will be Clear with temperatures fluctuating between 283.15 and 280.05.\\nCurrent temperature is 283.15 nd feels like 283.15.\\nHumidity will be around 61. Atmospheric pressure is expected to be at 1018.\\n-------------------------------------------------------------------------------------------------\\n\\nYOU CAN USE THIS TEMPLATE\\n-------------------------------------------------------------------------------------------------\\nWeather today in {CITYNAME} will be {WEATHER} with temperatures fluctuating between {TEMP_MIN} and {TEMP_MAX}.\\nCurrent temperature is {TEMP} nd feels like {TEMP_FEEL_LIKE}.\\nHumidity will be around {HUMIDITY_VALUE}. Atmospheric pressure is expected to be at {PRESSURE_VALUE}.\\n-------------------------------------------------------------------------------------------------\\n\""
      ]
     },
     "execution_count": 24,
     "metadata": {},
     "output_type": "execute_result"
    }
   ],
   "source": [
    "\"\"\"\n",
    "------------------------------------------------------------------------------------------------\n",
    "Here is a weather API. Using this, you can get weather update for any city. \n",
    "Go to https://openweathermap.org and get your API key for free and use it here to get weather of Chandigarh. \n",
    "Task. \n",
    "Use Requests and Json package to parse the response from the API and automatically generate weather report for Chandigarh.\n",
    "\n",
    "Expected output.\n",
    "-------------------------------------------------------------------------------------------------\n",
    "Today's weather report. \n",
    "Weather today in Chandigarh will be Clear with temperatures fluctuating between 283.15 and 280.05.\n",
    "Current temperature is 283.15 nd feels like 283.15.\n",
    "Humidity will be around 61. Atmospheric pressure is expected to be at 1018.\n",
    "-------------------------------------------------------------------------------------------------\n",
    "\n",
    "YOU CAN USE THIS TEMPLATE\n",
    "-------------------------------------------------------------------------------------------------\n",
    "Weather today in {CITYNAME} will be {WEATHER} with temperatures fluctuating between {TEMP_MIN} and {TEMP_MAX}.\n",
    "Current temperature is {TEMP} nd feels like {TEMP_FEEL_LIKE}.\n",
    "Humidity will be around {HUMIDITY_VALUE}. Atmospheric pressure is expected to be at {PRESSURE_VALUE}.\n",
    "-------------------------------------------------------------------------------------------------\n",
    "\"\"\"\n"
   ]
  },
  {
   "cell_type": "code",
   "execution_count": 25,
   "metadata": {
    "colab": {},
    "colab_type": "code",
    "id": "tWYSRG1ZRBwr"
   },
   "outputs": [],
   "source": [
    "#Complete the code to get the desired output. \n",
    "cityName = \"Chandigarh\"\n",
    "url = 'https://api.openweathermap.org/data/2.5/weather?q={}&appid=d87ddc46e0439fb2cd97ade0c9732574'.format(cityName)"
   ]
  },
  {
   "cell_type": "code",
   "execution_count": 26,
   "metadata": {},
   "outputs": [
    {
     "data": {
      "text/plain": [
       "<Response [200]>"
      ]
     },
     "execution_count": 26,
     "metadata": {},
     "output_type": "execute_result"
    }
   ],
   "source": [
    "# Checking the response\n",
    "res = requests.get(url)\n",
    "res"
   ]
  },
  {
   "cell_type": "code",
   "execution_count": 27,
   "metadata": {},
   "outputs": [
    {
     "data": {
      "text/plain": [
       "<html><body><p>{\"coord\":{\"lon\":76.79,\"lat\":30.73},\"weather\":[{\"id\":803,\"main\":\"Clouds\",\"description\":\"broken clouds\",\"icon\":\"04d\"}],\"base\":\"stations\",\"main\":{\"temp\":303.15,\"feels_like\":301.75,\"temp_min\":303.15,\"temp_max\":303.15,\"pressure\":1012,\"humidity\":27,\"sea_level\":1012,\"grnd_level\":973},\"wind\":{\"speed\":1.67,\"deg\":146},\"clouds\":{\"all\":66},\"dt\":1586835604,\"sys\":{\"country\":\"IN\",\"sunrise\":1586823965,\"sunset\":1586870378},\"timezone\":19800,\"id\":1274746,\"name\":\"Chandigarh\",\"cod\":200}</p></body></html>"
      ]
     },
     "execution_count": 27,
     "metadata": {},
     "output_type": "execute_result"
    }
   ],
   "source": [
    "# Parse to html\n",
    "soup1 = BeautifulSoup(res.text, 'lxml')\n",
    "soup1"
   ]
  },
  {
   "cell_type": "code",
   "execution_count": 28,
   "metadata": {},
   "outputs": [
    {
     "data": {
      "text/plain": [
       "{'coord': {'lon': 76.79, 'lat': 30.73},\n",
       " 'weather': [{'id': 803,\n",
       "   'main': 'Clouds',\n",
       "   'description': 'broken clouds',\n",
       "   'icon': '04d'}],\n",
       " 'base': 'stations',\n",
       " 'main': {'temp': 303.15,\n",
       "  'feels_like': 301.75,\n",
       "  'temp_min': 303.15,\n",
       "  'temp_max': 303.15,\n",
       "  'pressure': 1012,\n",
       "  'humidity': 27,\n",
       "  'sea_level': 1012,\n",
       "  'grnd_level': 973},\n",
       " 'wind': {'speed': 1.67, 'deg': 146},\n",
       " 'clouds': {'all': 66},\n",
       " 'dt': 1586835604,\n",
       " 'sys': {'country': 'IN', 'sunrise': 1586823965, 'sunset': 1586870378},\n",
       " 'timezone': 19800,\n",
       " 'id': 1274746,\n",
       " 'name': 'Chandigarh',\n",
       " 'cod': 200}"
      ]
     },
     "execution_count": 28,
     "metadata": {},
     "output_type": "execute_result"
    }
   ],
   "source": [
    "# Convert to a python object\n",
    "data = json.loads(soup1.text)\n",
    "data"
   ]
  },
  {
   "cell_type": "code",
   "execution_count": 29,
   "metadata": {},
   "outputs": [],
   "source": [
    "# Getting our required data\n",
    "for item in data[\"weather\"]:\n",
    "    weather = item.get(\"main\")\n",
    "\n",
    "temp_min = data[\"main\"].get(\"temp_min\")\n",
    "temp_max = data[\"main\"].get(\"temp_max\")\n",
    "temp = data[\"main\"].get(\"temp\")\n",
    "temp_feel_like = data[\"main\"].get(\"feels_like\")\n",
    "humidity_value = data[\"main\"].get(\"humidity\")\n",
    "pressure_value = data[\"main\"].get(\"pressure\")"
   ]
  },
  {
   "cell_type": "code",
   "execution_count": 30,
   "metadata": {},
   "outputs": [
    {
     "name": "stdout",
     "output_type": "stream",
     "text": [
      "Weather today in Chandigarh will be Clouds with temperatures fluctuating between 303.15 and 303.15.\n",
      "Current temperature is 303.15 nd feels like 301.75.\n",
      "Humidity will be around 27. Atmospheric pressure is expected to be at 1012.\n"
     ]
    }
   ],
   "source": [
    "# Weather Forecast\n",
    "\n",
    "print(f\"Weather today in {cityName} will be {weather} with temperatures fluctuating between {temp_min} and {temp_max}.\")\n",
    "print(f\"Current temperature is {temp} nd feels like {temp_feel_like}.\")\n",
    "print(f\"Humidity will be around {humidity_value}. Atmospheric pressure is expected to be at {pressure_value}.\")"
   ]
  },
  {
   "cell_type": "markdown",
   "metadata": {
    "colab_type": "text",
    "id": "RePAyUAJZ6Xb"
   },
   "source": [
    "# > Web Scrapping Task"
   ]
  },
  {
   "cell_type": "code",
   "execution_count": 18,
   "metadata": {
    "colab": {},
    "colab_type": "code",
    "id": "-TJD1tVCv3WD"
   },
   "outputs": [
    {
     "data": {
      "text/plain": [
       "'\\nUse BeautifulSoup to get info from https://webscraper.io/test-sites/e-commerce/allinone\\nOutput can be in any format (csv, json, or you can print the details in terminal)\\n\\nExpected output\\n--------------------------------------------------------\\nDell Latitude 54... #Title\\n$1110.14 # Price\\nDell Latitude 5480, 14\" FHD, Core i5-7300U, 8GB, 500GB, Linux + Windows 10 Home #Description\\n3 #Ratings\\nhttps://webscraper.io/test-sites/e-commerce/allinone/product/291 # Link\\n--------------------------------------------------------\\nPavilion\\n$609.99\\n15.6\", Core i5-4200U, 6GB, 750GB, Windows 8.1\\n1\\nhttps://webscraper.io/test-sites/e-commerce/allinone/product/229\\n--------------------------------------------------------\\nAcer Iconia\\n$96.99\\n7\" screen, Android, 16GB\\n1\\nhttps://webscraper.io/test-sites/e-commerce/allinone/product/202\\n'"
      ]
     },
     "execution_count": 18,
     "metadata": {},
     "output_type": "execute_result"
    }
   ],
   "source": [
    "\"\"\"\n",
    "Use BeautifulSoup to get info from https://webscraper.io/test-sites/e-commerce/allinone\n",
    "Output can be in any format (csv, json, or you can print the details in terminal)\n",
    "\n",
    "Expected output\n",
    "--------------------------------------------------------\n",
    "Dell Latitude 54... #Title\n",
    "$1110.14 # Price\n",
    "Dell Latitude 5480, 14\" FHD, Core i5-7300U, 8GB, 500GB, Linux + Windows 10 Home #Description\n",
    "3 #Ratings\n",
    "https://webscraper.io/test-sites/e-commerce/allinone/product/291 # Link\n",
    "--------------------------------------------------------\n",
    "Pavilion\n",
    "$609.99\n",
    "15.6\", Core i5-4200U, 6GB, 750GB, Windows 8.1\n",
    "1\n",
    "https://webscraper.io/test-sites/e-commerce/allinone/product/229\n",
    "--------------------------------------------------------\n",
    "Acer Iconia\n",
    "$96.99\n",
    "7\" screen, Android, 16GB\n",
    "1\n",
    "https://webscraper.io/test-sites/e-commerce/allinone/product/202\n",
    "\"\"\"\n"
   ]
  },
  {
   "cell_type": "code",
   "execution_count": 19,
   "metadata": {
    "colab": {},
    "colab_type": "code",
    "id": "KQBFUTEHwFkj"
   },
   "outputs": [],
   "source": [
    "# Complete this code to get desired output. \n",
    "response = requests.get(\"https://webscraper.io/test-sites/e-commerce/allinone\")\n",
    "soup = BeautifulSoup(response.text, 'lxml')"
   ]
  },
  {
   "cell_type": "code",
   "execution_count": 20,
   "metadata": {},
   "outputs": [
    {
     "data": {
      "text/plain": [
       "<!DOCTYPE html>\n",
       "<html lang=\"en\">\n",
       "<head>\n",
       "<!-- Anti-flicker snippet (recommended)  -->\n",
       "<style>.async-hide {\n",
       "\t\topacity: 0 !important\n",
       "\t} </style>\n",
       "<script>(function (a, s, y, n, c, h, i, d, e) {\n",
       "\t\ts.className += ' ' + y;\n",
       "\t\th.start = 1 * new Date;\n",
       "\t\th.end = i = function () {\n",
       "\t\t\ts.className = s.className.replace(RegExp(' ?' + y), '')\n",
       "\t\t};\n",
       "\t\t(a[n] = a[n] || []).hide = h;\n",
       "\t\tsetTimeout(function () {\n",
       "\t\t\ti();\n",
       "\t\t\th.end = null\n",
       "\t\t}, c);\n",
       "\t\th.timeout = c;\n",
       "\t})(window, document.documentElement, 'async-hide', 'dataLayer', 4000,\n",
       "\t\t{'GTM-NVFPDWB': true});</script>\n",
       "<!-- Google Tag Manager -->\n",
       "<script>(function (w, d, s, l, i) {\n",
       "\t\tw[l] = w[l] || [];\n",
       "\t\tw[l].push({\n",
       "\t\t\t'gtm.start':\n",
       "\t\t\t\tnew Date().getTime(), event: 'gtm.js'\n",
       "\t\t});\n",
       "\t\tvar f = d.getElementsByTagName(s)[0],\n",
       "\t\t\tj = d.createElement(s), dl = l != 'dataLayer' ? '&l=' + l : '';\n",
       "\t\tj.async = true;\n",
       "\t\tj.src =\n",
       "\t\t\t'https://www.googletagmanager.com/gtm.js?id=' + i + dl;\n",
       "\t\tf.parentNode.insertBefore(j, f);\n",
       "\t})(window, document, 'script', 'dataLayer', 'GTM-NVFPDWB');</script>\n",
       "<!-- End Google Tag Manager -->\n",
       "<title>Web Scraper Test Sites</title>\n",
       "<meta charset=\"utf-8\"/>\n",
       "<meta content=\"IE=edge,chrome=1\" http-equiv=\"X-UA-Compatible\"/>\n",
       "<meta content=\"web scraping,Web Scraper,Chrome extension,Crawling,Cross platform scraper, \" name=\"keywords\"/>\n",
       "<meta content=\"The most popular web scraping extension. Start scraping in minutes. Automate your tasks with our Cloud Scraper. No software to download, no coding needed.\" name=\"description\"/>\n",
       "<link href=\"/favicon.png\" rel=\"icon\" sizes=\"128x128\"/>\n",
       "<meta content=\"width=device-width, initial-scale=1.0\" name=\"viewport\"/>\n",
       "<link href=\"/css/app.css?id=5f4e6bd9f2c807f3e60b\" rel=\"stylesheet\"/>\n",
       "<link href=\"https://webscraper.io/test-sites/e-commerce/allinone\" rel=\"canonical\"/>\n",
       "<link href=\"/img/logo-icon.png\" rel=\"apple-touch-icon\"/>\n",
       "<script defer=\"\" src=\"/js/app.js?id=02ae2dc7fb7b0c98882c\"></script>\n",
       "</head>\n",
       "<body>\n",
       "<!-- Google Tag Manager (noscript) -->\n",
       "<noscript>\n",
       "<iframe height=\"0\" src=\"https://www.googletagmanager.com/ns.html?id=GTM-NVFPDWB\" style=\"display:none;visibility:hidden\" width=\"0\"></iframe>\n",
       "</noscript>\n",
       "<!-- End Google Tag Manager (noscript) -->\n",
       "<header class=\"navbar navbar-fixed-top navbar-static\" role=\"banner\">\n",
       "<div class=\"container\">\n",
       "<div class=\"navbar-header\">\n",
       "<a data-target=\".side-collapse\" data-target-2=\".side-collapse-container\" data-toggle=\"collapse-side\">\n",
       "<button aria-controls=\"navbar\" aria-expanded=\"false\" class=\"navbar-toggle pull-right collapsed\" data-target=\"#navbar\" data-target-2=\".side-collapse-container\" data-target-3=\".side-collapse\" data-toggle=\"collapse\" type=\"button\">\n",
       "<span class=\"sr-only\">Toggle navigation</span>\n",
       "<span class=\"icon-bar top-bar\"></span>\n",
       "<span class=\"icon-bar middle-bar\"></span>\n",
       "<span class=\"icon-bar bottom-bar\"></span>\n",
       "</button>\n",
       "</a>\n",
       "<div class=\"navbar-brand\">\n",
       "<a href=\"/\"><img alt=\"Web Scraper\" src=\"/img/logo_white.svg\"/></a>\n",
       "</div>\n",
       "</div>\n",
       "<div class=\"side-collapse in\">\n",
       "<nav class=\"navbar-collapse collapse\" id=\"navbar\" role=\"navigation\">\n",
       "<ul class=\"nav navbar-nav navbar-right\">\n",
       "<li class=\"hidden\">\n",
       "<a href=\"#page-top\"></a>\n",
       "</li>\n",
       "<li>\n",
       "<a class=\"menuitm\" href=\"/\">\n",
       "<p>Web Scraper</p>\n",
       "<div class=\"crta\"></div>\n",
       "</a>\n",
       "</li>\n",
       "<li>\n",
       "<a class=\"menuitm\" href=\"/cloud-scraper\">\n",
       "<p>Cloud Scraper</p>\n",
       "<div class=\"crta\"></div>\n",
       "</a>\n",
       "</li>\n",
       "<li>\n",
       "<a class=\"menuitm\" href=\"/pricing\">\n",
       "<p>Pricing</p>\n",
       "<div class=\"crta\"></div>\n",
       "</a>\n",
       "</li>\n",
       "<li class=\"dropdown\">\n",
       "<a class=\"menuitm dropdown-toggle\" data-toggle=\"dropdown\" href=\"#section3\">\n",
       "<p>Learn</p>\n",
       "<div class=\"crta\"></div>\n",
       "</a>\n",
       "<ul class=\"dropdown-menu\">\n",
       "<li>\n",
       "<a href=\"/documentation\">Documentation</a>\n",
       "</li>\n",
       "<li>\n",
       "<a href=\"/tutorials\">Video Tutorials</a>\n",
       "</li>\n",
       "<li>\n",
       "<a href=\"/test-sites\">Test Sites</a>\n",
       "</li>\n",
       "<li>\n",
       "<a href=\"https://forum.webscraper.io/\" rel=\"noopener\" target=\"_blank\">Forum</a>\n",
       "</li>\n",
       "</ul>\n",
       "</li>\n",
       "<li>\n",
       "<a class=\"btn-menu1 install-extension\" href=\"https://chrome.google.com/webstore/detail/web-scraper/jnhgnonknehpejjnehehllkliplmbmhn?hl=en\" rel=\"noopener\" target=\"_blank\">Install</a>\n",
       "</li>\n",
       "<li>\n",
       "<a class=\"btn-menu2\" href=\"https://cloud.webscraper.io/\">Login</a>\n",
       "</li>\n",
       "</ul>\n",
       "</nav>\n",
       "</div>\n",
       "</div>\n",
       "</header>\n",
       "<div class=\"wrapper\">\n",
       "<div class=\"formenu-here container-fluid\">\n",
       "</div>\n",
       "<div class=\"container-fluid blog-hero\">\n",
       "<div class=\"container\">\n",
       "<div class=\"row\">\n",
       "<div class=\"col-md-12\">\n",
       "<h1>Test Sites</h1>\n",
       "</div>\n",
       "</div>\n",
       "</div>\n",
       "</div>\n",
       "<div class=\"container test-site\">\n",
       "<div class=\"row\">\n",
       "<div class=\"col-md-3 sidebar\">\n",
       "<div class=\"navbar-default sidebar\" role=\"navigation\">\n",
       "<div class=\"sidebar-nav navbar-collapse\">\n",
       "<ul class=\"nav\" id=\"side-menu\">\n",
       "<li class=\"active\">\n",
       "<a href=\"/test-sites/e-commerce/allinone\">Home</a>\n",
       "</li>\n",
       "<li>\n",
       "<a class=\"category-link\" href=\"/test-sites/e-commerce/allinone/computers\">\n",
       "\t\t\t\t\tComputers\n",
       "\t\t\t\t\t<span class=\"fa arrow\"></span>\n",
       "</a>\n",
       "</li>\n",
       "<li>\n",
       "<a class=\"category-link\" href=\"/test-sites/e-commerce/allinone/phones\">\n",
       "\t\t\t\t\tPhones\n",
       "\t\t\t\t\t<span class=\"fa arrow\"></span>\n",
       "</a>\n",
       "</li>\n",
       "</ul>\n",
       "</div>\n",
       "</div>\n",
       "</div>\n",
       "<div class=\"col-md-9\">\n",
       "<div class=\"jumbotron\">\n",
       "<h1>E-commerce training site</h1>\n",
       "<p>\n",
       "\t\t\tWelcome to WebScraper e-commerce site. You can use this site for training\n",
       "\t\t\tto learn how to use the Web Scraper. Items listed here are not for sale.\n",
       "\t\t</p>\n",
       "</div>\n",
       "<h2>Top items being scraped right now</h2>\n",
       "<div class=\"row\">\n",
       "<div class=\"col-sm-4 col-lg-4 col-md-4\">\n",
       "<div class=\"thumbnail\">\n",
       "<img alt=\"item\" class=\"img-responsive\" src=\"/images/test-sites/e-commerce/items/cart2.png\"/>\n",
       "<div class=\"caption\">\n",
       "<h4 class=\"pull-right price\">$148.99</h4>\n",
       "<h4>\n",
       "<a class=\"title\" href=\"/test-sites/e-commerce/allinone/product/208\" title=\"IdeaTab A3500-H\">IdeaTab A3500-H</a>\n",
       "</h4>\n",
       "<p class=\"description\">Blue, 7\" IPS, Quad-Core 1.3GHz, 8GB, 3G, Android 4.2</p>\n",
       "</div>\n",
       "<div class=\"ratings\">\n",
       "<p class=\"pull-right\">9 reviews</p>\n",
       "<p data-rating=\"2\">\n",
       "<span class=\"glyphicon glyphicon-star\"></span>\n",
       "<span class=\"glyphicon glyphicon-star\"></span>\n",
       "</p>\n",
       "</div>\n",
       "</div>\n",
       "</div>\n",
       "<div class=\"col-sm-4 col-lg-4 col-md-4\">\n",
       "<div class=\"thumbnail\">\n",
       "<img alt=\"item\" class=\"img-responsive\" src=\"/images/test-sites/e-commerce/items/cart2.png\"/>\n",
       "<div class=\"caption\">\n",
       "<h4 class=\"pull-right price\">$679.00</h4>\n",
       "<h4>\n",
       "<a class=\"title\" href=\"/test-sites/e-commerce/allinone/product/240\" title=\"Dell Inspiron 15\">Dell Inspiron 15</a>\n",
       "</h4>\n",
       "<p class=\"description\">Dell Inspiron 15 (5567) Fog Gray, 15.6\" FHD, Core i5-7200U, 8GB, 1TB, Radeon R7 M445 4GB, Linux</p>\n",
       "</div>\n",
       "<div class=\"ratings\">\n",
       "<p class=\"pull-right\">7 reviews</p>\n",
       "<p data-rating=\"2\">\n",
       "<span class=\"glyphicon glyphicon-star\"></span>\n",
       "<span class=\"glyphicon glyphicon-star\"></span>\n",
       "</p>\n",
       "</div>\n",
       "</div>\n",
       "</div>\n",
       "<div class=\"col-sm-4 col-lg-4 col-md-4\">\n",
       "<div class=\"thumbnail\">\n",
       "<img alt=\"item\" class=\"img-responsive\" src=\"/images/test-sites/e-commerce/items/cart2.png\"/>\n",
       "<div class=\"caption\">\n",
       "<h4 class=\"pull-right price\">$1187.98</h4>\n",
       "<h4>\n",
       "<a class=\"title\" href=\"/test-sites/e-commerce/allinone/product/311\" title=\"Acer Predator Helios 300 (PH317-51)\">Acer Predator He...</a>\n",
       "</h4>\n",
       "<p class=\"description\">Acer Predator Helios 300 (PH317-51), 17.3\" FHD IPS, Core i7-7700HQ. 8GB, 128GB SSD +1TB, GeForce GTX 1050Ti 4GB, Linux + Windows 10 Home</p>\n",
       "</div>\n",
       "<div class=\"ratings\">\n",
       "<p class=\"pull-right\">14 reviews</p>\n",
       "<p data-rating=\"3\">\n",
       "<span class=\"glyphicon glyphicon-star\"></span>\n",
       "<span class=\"glyphicon glyphicon-star\"></span>\n",
       "<span class=\"glyphicon glyphicon-star\"></span>\n",
       "</p>\n",
       "</div>\n",
       "</div>\n",
       "</div>\n",
       "</div>\n",
       "</div>\n",
       "</div>\n",
       "</div>\n",
       "<div class=\"clearfix\"></div>\n",
       "<div class=\"push\"></div>\n",
       "</div>\n",
       "<div class=\"container-fluid footer\" id=\"layout-footer\">\n",
       "<div class=\"container\">\n",
       "<div class=\"row\">\n",
       "<div class=\"col-md-3\">\n",
       "<ul>\n",
       "<li><p>Products</p></li>\n",
       "<li>\n",
       "<a href=\"/\">Web Scraper browser extension</a>\n",
       "</li>\n",
       "<li>\n",
       "<a href=\"/pricing\">Web Scraper Cloud</a>\n",
       "</li>\n",
       "</ul>\n",
       "</div>\n",
       "<div class=\"col-md-3\">\n",
       "<ul>\n",
       "<li><p>Company</p></li>\n",
       "<li><a href=\"/contact\">Contact</a>\n",
       "</li>\n",
       "<li>\n",
       "<a href=\"/privacy-policy\">Privacy Policy</a>\n",
       "</li>\n",
       "<li><a href=\"/jobs\">Jobs</a></li>\n",
       "</ul>\n",
       "</div>\n",
       "<div class=\"col-md-3\">\n",
       "<ul>\n",
       "<li><p>Resources</p></li>\n",
       "<li><a href=\"/blog\">Blog</a></li>\n",
       "<li>\n",
       "<a href=\"/documentation\">Documentation</a>\n",
       "</li>\n",
       "<li>\n",
       "<a href=\"/tutorials\">Video Tutorials</a>\n",
       "</li>\n",
       "<li>\n",
       "<a href=\"/screenshots\">Screenshots</a>\n",
       "</li>\n",
       "<li>\n",
       "<a href=\"/test-sites\">Test Sites</a>\n",
       "</li>\n",
       "<li>\n",
       "<a href=\"https://forum.webscraper.io/\" rel=\"noopener\" target=\"_blank\">Forum</a>\n",
       "</li>\n",
       "</ul>\n",
       "</div>\n",
       "<div class=\"col-md-3\">\n",
       "<ul>\n",
       "<li><p>CONTACT US</p></li>\n",
       "<li>\n",
       "<a href=\"mailto:info@webscraper.io\">info@webscraper.io</a>\n",
       "</li>\n",
       "<li>Sporta street 2,<br/> Riga, Latvia, LV-1013</li>\n",
       "</ul>\n",
       "<ul class=\"smedia\">\n",
       "<li>\n",
       "<a href=\"https://www.facebook.com/webscraperio/\" rel=\"noopener\" target=\"_blank\"><img alt=\"Web Scraper on Facebook\" src=\"/img/fbicon.png\"/></a>\n",
       "</li>\n",
       "<li>\n",
       "<a href=\"https://twitter.com/webscraperio\" rel=\"noopener\" target=\"_blank\"><img alt=\"Web Scraper on Twitter\" src=\"/img/twicon.png\"/></a>\n",
       "</li>\n",
       "</ul>\n",
       "</div>\n",
       "</div>\n",
       "<div class=\"row\">\n",
       "<div class=\"col-md-12\">\n",
       "<p class=\"copyright\">Copyright &amp;copy 2020\n",
       "\t\t\t\t\t<a href=\"#\">Web Scraper</a> | All rights\n",
       "\t\t\t\t\treserved | Made by zoom59</p>\n",
       "</div>\n",
       "</div>\n",
       "</div>\n",
       "</div>\n",
       "</body>\n",
       "</html>"
      ]
     },
     "execution_count": 20,
     "metadata": {},
     "output_type": "execute_result"
    }
   ],
   "source": [
    "soup"
   ]
  },
  {
   "cell_type": "code",
   "execution_count": 21,
   "metadata": {},
   "outputs": [],
   "source": [
    "# Selecting our required data\n",
    "title = soup.select('.title')\n",
    "description = soup.select('.description')\n",
    "price = soup.select('.pull-right.price')\n",
    "rating = soup.select('[data-rating]')"
   ]
  },
  {
   "cell_type": "code",
   "execution_count": 86,
   "metadata": {},
   "outputs": [
    {
     "name": "stdout",
     "output_type": "stream",
     "text": [
      "----------------------------------------------------------------------------------------------------------\n",
      "IdeaTab A3500-H\n",
      "$148.99\n",
      "Blue, 7\" IPS, Quad-Core 1.3GHz, 8GB, 3G, Android 4.2\n",
      "2\n",
      "https://webscraper.io/test-sites/e-commerce/allinone/product/208\n",
      "----------------------------------------------------------------------------------------------------------\n",
      "Dell Inspiron 15\n",
      "$679.00\n",
      "Dell Inspiron 15 (5567) Fog Gray, 15.6\" FHD, Core i5-7200U, 8GB, 1TB, Radeon R7 M445 4GB, Linux\n",
      "2\n",
      "https://webscraper.io/test-sites/e-commerce/allinone/product/240\n",
      "----------------------------------------------------------------------------------------------------------\n",
      "Acer Predator He...\n",
      "$1187.98\n",
      "Acer Predator Helios 300 (PH317-51), 17.3\" FHD IPS, Core i7-7700HQ. 8GB, 128GB SSD +1TB, GeForce GTX 1050Ti 4GB, Linux + Windows 10 Home\n",
      "3\n",
      "https://webscraper.io/test-sites/e-commerce/allinone/product/311\n"
     ]
    }
   ],
   "source": [
    "for idx, item in enumerate(title):\n",
    "    prdt_title = title[idx].getText()\n",
    "    prdt_price = price[idx].getText()\n",
    "    prdt_link = title[idx].get('href')\n",
    "    site_link = \"https://webscraper.io\"\n",
    "    prdt_link_full = site_link+prdt_link\n",
    "    prdt_rating = rating[idx].get('data-rating')\n",
    "    prdt_desc = description[idx].getText()\n",
    "    print(\"----------------------------------------------------------------------------------------------------------\")\n",
    "    print(prdt_title)\n",
    "    print(prdt_price)\n",
    "    print(prdt_desc)\n",
    "    print(prdt_rating)\n",
    "    print(prdt_link_full)"
   ]
  },
  {
   "cell_type": "code",
   "execution_count": null,
   "metadata": {},
   "outputs": [],
   "source": []
  }
 ],
 "metadata": {
  "colab": {
   "collapsed_sections": [],
   "name": "Internship_Task.ipynb",
   "provenance": []
  },
  "kernelspec": {
   "display_name": "Python 3",
   "language": "python",
   "name": "python3"
  },
  "language_info": {
   "codemirror_mode": {
    "name": "ipython",
    "version": 3
   },
   "file_extension": ".py",
   "mimetype": "text/x-python",
   "name": "python",
   "nbconvert_exporter": "python",
   "pygments_lexer": "ipython3",
   "version": "3.8.2"
  }
 },
 "nbformat": 4,
 "nbformat_minor": 1
}
